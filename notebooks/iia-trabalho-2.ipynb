{
 "cells": [
  {
   "cell_type": "markdown",
   "metadata": {
    "id": "vYZV1KmiXKyD"
   },
   "source": [
    "# **Projeto 2 - Introdução à Inteligência Artificial (2025/1)**\n",
    "\n",
    "- **Aluno(a):** Matheus Duarte da Silva - 211062277\n",
    "- **Professor:** Díbio Leandro Borges\n",
    "\n",
    "## **Objetivo do Projeto**\n",
    "Este projeto visa implementar e avaliar um método de Deep Learning para a contagem de árvores em uma cidade, com base no artigo de referência de [Zamboni et al. (2021)](https://github.com/pedrozamboni/individual_urban_tree_crown_detection).\n",
    "Os resultados serão comparados com os publicados no artigo, utilizando as mesmas métricas.\n"
   ]
  },
  {
   "cell_type": "markdown",
   "metadata": {
    "id": "Q0y9eSH2XoJa"
   },
   "source": [
    "## Configuração Inicial\n",
    "\n",
    "Conectando ao ambiente do Google Drive, aonde está localizado todas as pastas importantes para o projeto, como dataset, repositório, pasta de resultados e afins."
   ]
  },
  {
   "cell_type": "code",
   "execution_count": null,
   "metadata": {
    "id": "b0oEr-hnX7S9"
   },
   "outputs": [],
   "source": [
    "from google.colab import drive\n",
    "drive.mount('/content/drive')"
   ]
  },
  {
   "cell_type": "markdown",
   "metadata": {
    "id": "hYj2a9GBYKVl"
   },
   "source": [
    "### Definindo diretório de trabalho\n",
    "\n",
    "Aqui estamos definindo o local do Drive em que todo o projeto será localizado, essa parte é importante para manter a organização de todos os arquivos."
   ]
  },
  {
   "cell_type": "code",
   "execution_count": null,
   "metadata": {
    "id": "RgiJuw-4MWwV"
   },
   "outputs": [],
   "source": [
    "import os\n",
    "\n",
    "# Caminhos importantes\n",
    "%cd /content/drive/MyDrive/iia-trabalho-2/\n",
    "project_path = \"/content/drive/MyDrive/iia-trabalho-2/\"\n",
    "\n",
    "# Mudar para o diretório do YOLO-MS\n",
    "try:\n",
    "    os.chdir(project_path)\n",
    "    print(f\"Diretório de trabalho alterado para: {os.getcwd()}\")\n",
    "\n",
    "except FileNotFoundError:\n",
    "    print(f\"ERRO: O diretório '{project_path}' não foi encontrado.\")\n",
    "    print(\"Verifique se o caminho está correto e se a pasta do projeto foi compartilhada com você.\")"
   ]
  },
  {
   "cell_type": "markdown",
   "metadata": {
    "id": "6BbY79CygRjt"
   },
   "source": [
    "### Instalando bibliotecas\n",
    "\n",
    "Esta sendo definido as versões compatíveis das bibliotecas `PyTorch`, `NumPy` e suas dependências.\n",
    "\n",
    "Para a biblioteca principal para o projeto será utilizado a `ultralytics` que contém algumas implementações do modelo YOLO, que será o modelo para detecção de objetos escolhido."
   ]
  },
  {
   "cell_type": "code",
   "execution_count": null,
   "metadata": {
    "id": "Fwx1lIj6C-JP"
   },
   "outputs": [],
   "source": [
    "# Instalando as dependências principais para o modelo\n",
    "!pip install numpy==2.0.2 torch==2.6.0 torchvision==0.21.0 torchaudio==2.6.0\n",
    "\n",
    "# Célula 4: Instalar a biblioteca\n",
    "!pip install -q ultralytics"
   ]
  },
  {
   "cell_type": "markdown",
   "metadata": {
    "id": "mTvQpTwYg_Tr"
   },
   "source": [
    "### Convertendo Dataset\n",
    "\n",
    "A maneira em que o dataset fornecido pelo artigo de detecção de árvores em imagens RGB não reconhecido pelo YOLOv11, modelo que será utilizado para o projeto, assim, é preciso organizar os dados de uma maneira que seja reconhecido.\n",
    "\n",
    "A célula abaixo define métodos para realizar a conversão do dataset original para um dataset que seja reconhecido para o treinamento."
   ]
  },
  {
   "cell_type": "code",
   "execution_count": null,
   "metadata": {
    "id": "rMYK6kyCw1zF"
   },
   "outputs": [],
   "source": [
    "import os\n",
    "import shutil\n",
    "from PIL import Image\n",
    "\n",
    "def convert_bbox_to_yolo(img_width, img_height, bbox):\n",
    "    \"\"\"\n",
    "    Converte um bounding box do formato [x_min, y_min, x_max, y_max]\n",
    "    para o formato YOLO [x_center, y_center, width, height] normalizado.\n",
    "    \"\"\"\n",
    "    x_min, y_min, x_max, y_max = bbox\n",
    "\n",
    "    # Calcula as dimensões e o centro do bounding box em píxeis\n",
    "    box_width = x_max - x_min\n",
    "    box_height = y_max - y_min\n",
    "    x_center = x_min + (box_width / 2)\n",
    "    y_center = y_min + (box_height / 2)\n",
    "\n",
    "    # Normaliza as coordenadas (divide pelo tamanho da imagem)\n",
    "    x_center_norm = x_center / img_width\n",
    "    y_center_norm = y_center / img_height\n",
    "    width_norm = box_width / img_width\n",
    "    height_norm = box_height / img_height\n",
    "\n",
    "    return x_center_norm, y_center_norm, width_norm, height_norm\n",
    "\n",
    "\n",
    "def process_dataset_split(split_name, fold_path, img_source_path, bbox_source_path):\n",
    "    \"\"\"\n",
    "    Processa um split (train, val, or test), copiando imagens e convertendo labels.\n",
    "    \"\"\"\n",
    "    print(f\"A processar o conjunto: {split_name}...\")\n",
    "\n",
    "    # Caminhos para as listas de imagens de treino/validação/teste\n",
    "    img_list_file = os.path.join(fold_path, f'{split_name}.txt')\n",
    "\n",
    "    if not os.path.exists(img_list_file):\n",
    "        print(f\"Aviso: Ficheiro de lista '{img_list_file}' não encontrado. A pular este conjunto.\")\n",
    "        return\n",
    "\n",
    "    # Cria as pastas de destino para este split\n",
    "    dest_img_path = os.path.join(YOLO_DATASET_PATH, 'images', split_name)\n",
    "    dest_label_path = os.path.join(YOLO_DATASET_PATH, 'labels', split_name)\n",
    "    os.makedirs(dest_img_path, exist_ok=True)\n",
    "    os.makedirs(dest_label_path, exist_ok=True)\n",
    "\n",
    "    with open(img_list_file, 'r') as f:\n",
    "        image_names = [line.strip() for line in f.readlines()]\n",
    "\n",
    "    for img_name in image_names:\n",
    "        # Define os caminhos de origem e destino para a imagem\n",
    "        img_filename_base = os.path.splitext(img_name)[0]\n",
    "        source_img = os.path.join(img_source_path, img_name)\n",
    "        dest_img = os.path.join(dest_img_path, img_name)\n",
    "\n",
    "        # Copia a imagem\n",
    "        if os.path.exists(source_img):\n",
    "            shutil.copy(source_img, dest_img)\n",
    "        else:\n",
    "            print(f\"Aviso: Imagem '{source_img}' não encontrada. A pular.\")\n",
    "            continue\n",
    "\n",
    "        # Processa as labels\n",
    "        bbox_file = os.path.join(bbox_source_path, f'{img_filename_base}.txt')\n",
    "        yolo_label_file = os.path.join(dest_label_path, f'{img_filename_base}.txt')\n",
    "\n",
    "        if os.path.exists(bbox_file):\n",
    "            # Obtém as dimensões da imagem\n",
    "            with Image.open(source_img) as img:\n",
    "                img_width, img_height = img.size\n",
    "\n",
    "            with open(bbox_file, 'r') as bf, open(yolo_label_file, 'w') as yf:\n",
    "                for line in bf:\n",
    "                    parts = list(map(int, line.strip().split()))\n",
    "                    if len(parts) == 4:\n",
    "                        # Converte e escreve a linha no formato YOLO\n",
    "                        yolo_coords = convert_bbox_to_yolo(img_width, img_height, parts)\n",
    "                        # Assume classe 0 para todos os objetos\n",
    "                        yf.write(f\"0 {yolo_coords[0]:.6f} {yolo_coords[1]:.6f} {yolo_coords[2]:.6f} {yolo_coords[3]:.6f}\\n\")\n",
    "    print(f\"Conjunto {split_name} processado com sucesso!\")\n",
    "\n",
    "\n",
    "def main():\n",
    "    \"\"\"Função principal para orquestrar a conversão.\"\"\"\n",
    "    print(\"Iniciando a conversão do dataset para o formato YOLO...\")\n",
    "\n",
    "    # Caminhos de origem\n",
    "    img_list_path = os.path.join(ORIGINAL_DATASET_PATH, 'img_list', str(FOLD_NUMBER))\n",
    "    rgb_path = os.path.join(ORIGINAL_DATASET_PATH, 'rgb')\n",
    "    bbox_path = os.path.join(ORIGINAL_DATASET_PATH, 'bbox_txt')\n",
    "\n",
    "    # Remove a pasta de destino se já existir para começar do zero\n",
    "    if os.path.exists(YOLO_DATASET_PATH):\n",
    "        shutil.rmtree(YOLO_DATASET_PATH)\n",
    "        print(f\"Pasta existente '{YOLO_DATASET_PATH}' removida.\")\n",
    "\n",
    "    # Processa cada conjunto (train, val, test)\n",
    "    process_dataset_split('train', img_list_path, rgb_path, bbox_path)\n",
    "    process_dataset_split('val', img_list_path, rgb_path, bbox_path)\n",
    "    process_dataset_split('test', img_list_path, rgb_path, bbox_path)\n",
    "\n",
    "    # Cria o ficheiro dataset.yaml\n",
    "    yaml_content = f\"\"\"\n",
    "# Caminho para as pastas de treino e validação (relativo ao ficheiro .yaml)\n",
    "train: ./images/train\n",
    "val: ./images/val\n",
    "test: ./images/test\n",
    "\n",
    "# Número de classes\n",
    "nc: 1\n",
    "\n",
    "# Nomes das classes\n",
    "names: ['{CLASS_NAME}']\n",
    "\"\"\"\n",
    "    with open(os.path.join(YOLO_DATASET_PATH, 'dataset.yaml'), 'w') as f:\n",
    "        f.write(yaml_content)\n",
    "\n",
    "    print(\"\\nConversão concluída com sucesso!\")\n",
    "    print(f\"O seu dataset em formato YOLO está pronto na pasta: '{YOLO_DATASET_PATH}'\")"
   ]
  },
  {
   "cell_type": "markdown",
   "metadata": {
    "id": "641J0UHTyqVe"
   },
   "source": [
    "#### Configurando o Dataset"
   ]
  },
  {
   "cell_type": "code",
   "execution_count": null,
   "metadata": {
    "id": "Ept2sbABvWRy"
   },
   "outputs": [],
   "source": [
    "CLASS_NAME = 'arvore'\n",
    "\n",
    "# Caminho para a pasta principal do dataset\n",
    "ORIGINAL_DATASET_PATH = '/content/drive/MyDrive/iia-trabalho-2/datasets'\n",
    "\n",
    "# Número da sub-pasta dentro do `img_list`\n",
    "FOLD_NUMBER = 4\n",
    "\n",
    "# Caminho da pasta onde o novo dataset em formato YOLO será criado\n",
    "YOLO_DATASET_PATH = f'/content/drive/MyDrive/iia-trabalho-2/datasets/yolo_dataset_{FOLD_NUMBER}'\n",
    "\n",
    "main()"
   ]
  },
  {
   "cell_type": "markdown",
   "metadata": {
    "id": "g9lOVsbRl6fq"
   },
   "source": [
    "## Configurações para o Treino do Modelo\n",
    "\n",
    "Aqui esta sendo definido todos os parâmetros necessários para os treinamentos, seguindo a metodologia e os requisitos necessários do artigo base."
   ]
  },
  {
   "cell_type": "code",
   "execution_count": null,
   "metadata": {
    "id": "uMdIFrhRlv9l"
   },
   "outputs": [],
   "source": [
    "import ultralytics\n",
    "\n",
    "# Modelo base do YOLOv11 a ser usado\n",
    "# Opções: 'yolo11n.pt' (nano), 'yolo11s.pt' (small), 'yolo11m.pt' (medium)\n",
    "MODEL_NAME = 'yolo11n.pt'\n",
    "\n",
    "# Caminho para a pasta do novo dataset com suas configurações\n",
    "DATA_YAML_PATH = f'/content/drive/MyDrive/iia-trabalho-2/{YOLO_DATASET_PATH}/dataset.yaml'\n",
    "\n",
    "# Número de épocas\n",
    "EPOCHS = 24\n",
    "\n",
    "# Tamanho das imagens de entrada para o modelo\n",
    "IMAGE_SIZE = 512\n",
    "\n",
    "# Nome da pasta principal onde os resultados serão guardados\n",
    "PROJECT_NAME = f'/content/drive/MyDrive/iia-trabalho-2/results/treinamento_{FOLD_NUMBER}'\n",
    "\n",
    "# Nome para cada run do treino, muda de acordo com a sub-pasta do `img_list`\n",
    "RUN_NAME = f'arvore_detector_run1_fold{FOLD_NUMBER}_epch_24'\n",
    "\n",
    "print(\"✅ Configurações de treino carregadas.\")\n",
    "print(f\"   - Modelo: {MODEL_NAME}\")\n",
    "print(f\"   - Épocas: {EPOCHS}\")\n",
    "print(f\"   - Nome da Experiência: {RUN_NAME}\")"
   ]
  },
  {
   "cell_type": "markdown",
   "metadata": {
    "id": "0VaHwuz1mkox"
   },
   "source": [
    "## Treinando o Modelo\n",
    "\n",
    "Com os parâmetros definidos, iniciamos o treinamento do modelo."
   ]
  },
  {
   "cell_type": "code",
   "execution_count": null,
   "metadata": {
    "id": "o56OhXc9mpH_"
   },
   "outputs": [],
   "source": [
    "from ultralytics import YOLO\n",
    "\n",
    "print(\"Iniciando o carregamento do modelo...\")\n",
    "model = YOLO(MODEL_NAME)\n",
    "\n",
    "print(f\"🚀 Iniciando o treino para a sub-pasta {FOLD_NUMBER}...\")\n",
    "results = model.train(data=DATA_YAML_PATH, epochs=EPOCHS,\n",
    "                      imgsz=IMAGE_SIZE, project=PROJECT_NAME, name=RUN_NAME)\n",
    "\n",
    "print(f\"Treino concluído! Resultados guardados em: {PROJECT_NAME}/{RUN_NAME}\")"
   ]
  },
  {
   "cell_type": "markdown",
   "metadata": {
    "id": "DZDmJ-CPCFpw"
   },
   "source": [
    "## Validação do Modelo\n",
    "\n",
    "Carregamos os pesos do melhor modelo treinado (`best.pt`) e o avaliamos no conjunto de teste, que não foi visto durante o treino."
   ]
  },
  {
   "cell_type": "code",
   "execution_count": null,
   "metadata": {
    "id": "UTkxr3CYBoYR"
   },
   "outputs": [],
   "source": [
    "# Caminho para os pesos obtidos no treinamento anterior\n",
    "MODEL_WEIGHTS_PATH = f'{PROJECT_NAME}/{RUN_NAME}/weights/best.pt'\n",
    "\n",
    "print(f\"Carregando modelo: {RUN_NAME}\")\n",
    "model = YOLO(MODEL_WEIGHTS_PATH)\n",
    "\n",
    "print(\"Iniciando a validação no conjunto de teste...\")\n",
    "metrics = model.val(data=DATA_YAML_PATH)\n",
    "\n",
    "print(\"✅ Validação concluída!\")"
   ]
  }
 ],
 "metadata": {
  "accelerator": "GPU",
  "colab": {
   "gpuType": "T4",
   "provenance": []
  },
  "kernelspec": {
   "display_name": "Python 3",
   "name": "python3"
  },
  "language_info": {
   "name": "python"
  }
 },
 "nbformat": 4,
 "nbformat_minor": 0
}
